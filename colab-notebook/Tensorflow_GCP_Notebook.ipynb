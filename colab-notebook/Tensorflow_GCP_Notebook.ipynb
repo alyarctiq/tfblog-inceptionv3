{
  "nbformat": 4,
  "nbformat_minor": 0,
  "metadata": {
    "colab": {
      "name": "Tensorflow-GCP-Notebook.ipynb",
      "provenance": [],
      "collapsed_sections": [],
      "authorship_tag": "ABX9TyMbjPC8rz/RJDSpjzPkKojZ",
      "include_colab_link": true
    },
    "kernelspec": {
      "name": "python3",
      "display_name": "Python 3"
    },
    "accelerator": "GPU"
  },
  "cells": [
    {
      "cell_type": "markdown",
      "metadata": {
        "id": "view-in-github",
        "colab_type": "text"
      },
      "source": [
        "<a href=\"https://colab.research.google.com/github/alyarctiq/tfblog-inceptionv3/blob/master/colab-notebook/Tensorflow_GCP_Notebook.ipynb\" target=\"_parent\"><img src=\"https://colab.research.google.com/assets/colab-badge.svg\" alt=\"Open In Colab\"/></a>"
      ]
    },
    {
      "cell_type": "markdown",
      "metadata": {
        "id": "3gTFt94Vw6lP"
      },
      "source": [
        "## Prep "
      ]
    },
    {
      "cell_type": "code",
      "metadata": {
        "id": "EeWo9jqchFip",
        "colab": {
          "base_uri": "https://localhost:8080/"
        },
        "outputId": "328194ef-cc0d-417d-a60e-055b5232bd27"
      },
      "source": [
        "# Validate Notebook\n",
        "try:\n",
        "    %tensorflow_version 2.x\n",
        "    COLAB = True\n",
        "    print(\"Note: using Google CoLab\")\n",
        "    print(\"TF Version: \",  tf.__version__)\n",
        "except:\n",
        "    print(\"Note: not using Google CoLab\")\n",
        "    COLAB = False\n",
        "\n",
        "# Tensorflow and Keras\n",
        "import tensorflow as tf\n",
        "from tensorflow.keras.applications.inception_v3 import InceptionV3\n",
        "from tensorflow.keras import applications\n",
        "from tensorflow.keras.preprocessing import image\n",
        "from tensorflow.keras.applications.inception_v3 import preprocess_input\n",
        "from tensorflow.keras.applications.inception_v3 import decode_predictions\n",
        "from tensorflow.keras.preprocessing.image import load_img\n",
        "\n",
        "# Helper libraries\n",
        "import os\n",
        "import requests\n",
        "import numpy as np\n",
        "from PIL import Image\n",
        "from io import BytesIO\n",
        "from io import BytesIO\n",
        "import urllib\n",
        "from matplotlib.pyplot import imshow\n",
        "\n",
        "tf.keras.backend.clear_session()  # For easy reset of notebook state.\n",
        "\n",
        "device_name = tf.test.gpu_device_name()\n",
        "if device_name != '/device:GPU:0':\n",
        "  raise SystemError('GPU device not found')\n",
        "print('Found GPU at: {}'.format(device_name))"
      ],
      "execution_count": 24,
      "outputs": [
        {
          "output_type": "stream",
          "text": [
            "Note: using Google CoLab\n",
            "TF Version:  2.4.0\n",
            "Found GPU at: /device:GPU:0\n"
          ],
          "name": "stdout"
        }
      ]
    },
    {
      "cell_type": "markdown",
      "metadata": {
        "id": "S_4nAWxqyXMy"
      },
      "source": [
        "## Load Inceptionv3 Model"
      ]
    },
    {
      "cell_type": "code",
      "metadata": {
        "id": "3rDyRS6whJ5d"
      },
      "source": [
        "# Load Model\n",
        "model = InceptionV3(include_top=True, weights='imagenet')"
      ],
      "execution_count": 25,
      "outputs": []
    },
    {
      "cell_type": "markdown",
      "metadata": {
        "id": "r2y4f-ztyb_R"
      },
      "source": [
        "## Load Test Image"
      ]
    },
    {
      "cell_type": "code",
      "metadata": {
        "id": "WfzhCNWjmuTx"
      },
      "source": [
        "def loadImage(URL):\n",
        "  res = request.urlopen(URL).read()\n",
        "  img = Image.open(BytesIO(res)).resize((150,150))\n",
        "  return img"
      ],
      "execution_count": 27,
      "outputs": []
    },
    {
      "cell_type": "code",
      "metadata": {
        "id": "R9eHysWHhTjl",
        "colab": {
          "base_uri": "https://localhost:8080/",
          "height": 307
        },
        "outputId": "04cee85b-bf09-421c-a42f-1095671e2247"
      },
      "source": [
        "img = loadImage(\"https://news.harvard.edu/wp-content/uploads/2019/04/iStock-515813368.jpg\")"
      ],
      "execution_count": 28,
      "outputs": [
        {
          "output_type": "error",
          "ename": "TypeError",
          "evalue": "ignored",
          "traceback": [
            "\u001b[0;31m---------------------------------------------------------------------------\u001b[0m",
            "\u001b[0;31mTypeError\u001b[0m                                 Traceback (most recent call last)",
            "\u001b[0;32m<ipython-input-28-f5aedb166970>\u001b[0m in \u001b[0;36m<module>\u001b[0;34m()\u001b[0m\n\u001b[0;32m----> 1\u001b[0;31m \u001b[0mimg\u001b[0m \u001b[0;34m=\u001b[0m \u001b[0mloadImage\u001b[0m\u001b[0;34m(\u001b[0m\u001b[0;34m\"https://news.harvard.edu/wp-content/uploads/2019/04/iStock-515813368.jpg\"\u001b[0m\u001b[0;34m)\u001b[0m\u001b[0;34m\u001b[0m\u001b[0;34m\u001b[0m\u001b[0m\n\u001b[0m",
            "\u001b[0;32m<ipython-input-27-5dffb51ee804>\u001b[0m in \u001b[0;36mloadImage\u001b[0;34m(URL)\u001b[0m\n\u001b[1;32m      1\u001b[0m \u001b[0;32mdef\u001b[0m \u001b[0mloadImage\u001b[0m\u001b[0;34m(\u001b[0m\u001b[0mURL\u001b[0m\u001b[0;34m)\u001b[0m\u001b[0;34m:\u001b[0m\u001b[0;34m\u001b[0m\u001b[0;34m\u001b[0m\u001b[0m\n\u001b[1;32m      2\u001b[0m     \u001b[0;32mwith\u001b[0m \u001b[0murllib\u001b[0m\u001b[0;34m.\u001b[0m\u001b[0mrequest\u001b[0m\u001b[0;34m.\u001b[0m\u001b[0murlopen\u001b[0m\u001b[0;34m(\u001b[0m\u001b[0mURL\u001b[0m\u001b[0;34m)\u001b[0m \u001b[0;32mas\u001b[0m \u001b[0murl\u001b[0m\u001b[0;34m:\u001b[0m\u001b[0;34m\u001b[0m\u001b[0;34m\u001b[0m\u001b[0m\n\u001b[0;32m----> 3\u001b[0;31m         \u001b[0mimg\u001b[0m \u001b[0;34m=\u001b[0m \u001b[0mimage\u001b[0m\u001b[0;34m.\u001b[0m\u001b[0mload_img\u001b[0m\u001b[0;34m(\u001b[0m\u001b[0mBytesIO\u001b[0m\u001b[0;34m(\u001b[0m\u001b[0murl\u001b[0m\u001b[0;34m.\u001b[0m\u001b[0mread\u001b[0m\u001b[0;34m(\u001b[0m\u001b[0;34m)\u001b[0m\u001b[0;34m)\u001b[0m\u001b[0;34m,\u001b[0m \u001b[0mtarget_size\u001b[0m\u001b[0;34m=\u001b[0m\u001b[0;34m(\u001b[0m\u001b[0;36m299\u001b[0m\u001b[0;34m,\u001b[0m \u001b[0;36m299\u001b[0m\u001b[0;34m)\u001b[0m\u001b[0;34m)\u001b[0m\u001b[0;34m\u001b[0m\u001b[0;34m\u001b[0m\u001b[0m\n\u001b[0m\u001b[1;32m      4\u001b[0m \u001b[0;34m\u001b[0m\u001b[0m\n\u001b[1;32m      5\u001b[0m     \u001b[0;32mreturn\u001b[0m \u001b[0mimg\u001b[0m\u001b[0;34m\u001b[0m\u001b[0;34m\u001b[0m\u001b[0m\n",
            "\u001b[0;32m/usr/local/lib/python3.6/dist-packages/tensorflow/python/keras/preprocessing/image.py\u001b[0m in \u001b[0;36mload_img\u001b[0;34m(path, grayscale, color_mode, target_size, interpolation)\u001b[0m\n\u001b[1;32m    298\u001b[0m   \"\"\"\n\u001b[1;32m    299\u001b[0m   return image.load_img(path, grayscale=grayscale, color_mode=color_mode,\n\u001b[0;32m--> 300\u001b[0;31m                         target_size=target_size, interpolation=interpolation)\n\u001b[0m\u001b[1;32m    301\u001b[0m \u001b[0;34m\u001b[0m\u001b[0m\n\u001b[1;32m    302\u001b[0m \u001b[0;34m\u001b[0m\u001b[0m\n",
            "\u001b[0;32m/usr/local/lib/python3.6/dist-packages/keras_preprocessing/image/utils.py\u001b[0m in \u001b[0;36mload_img\u001b[0;34m(path, grayscale, color_mode, target_size, interpolation)\u001b[0m\n\u001b[1;32m    111\u001b[0m         raise ImportError('Could not import PIL.Image. '\n\u001b[1;32m    112\u001b[0m                           'The use of `load_img` requires PIL.')\n\u001b[0;32m--> 113\u001b[0;31m     \u001b[0;32mwith\u001b[0m \u001b[0mopen\u001b[0m\u001b[0;34m(\u001b[0m\u001b[0mpath\u001b[0m\u001b[0;34m,\u001b[0m \u001b[0;34m'rb'\u001b[0m\u001b[0;34m)\u001b[0m \u001b[0;32mas\u001b[0m \u001b[0mf\u001b[0m\u001b[0;34m:\u001b[0m\u001b[0;34m\u001b[0m\u001b[0;34m\u001b[0m\u001b[0m\n\u001b[0m\u001b[1;32m    114\u001b[0m         \u001b[0mimg\u001b[0m \u001b[0;34m=\u001b[0m \u001b[0mpil_image\u001b[0m\u001b[0;34m.\u001b[0m\u001b[0mopen\u001b[0m\u001b[0;34m(\u001b[0m\u001b[0mio\u001b[0m\u001b[0;34m.\u001b[0m\u001b[0mBytesIO\u001b[0m\u001b[0;34m(\u001b[0m\u001b[0mf\u001b[0m\u001b[0;34m.\u001b[0m\u001b[0mread\u001b[0m\u001b[0;34m(\u001b[0m\u001b[0;34m)\u001b[0m\u001b[0;34m)\u001b[0m\u001b[0;34m)\u001b[0m\u001b[0;34m\u001b[0m\u001b[0;34m\u001b[0m\u001b[0m\n\u001b[1;32m    115\u001b[0m         \u001b[0;32mif\u001b[0m \u001b[0mcolor_mode\u001b[0m \u001b[0;34m==\u001b[0m \u001b[0;34m'grayscale'\u001b[0m\u001b[0;34m:\u001b[0m\u001b[0;34m\u001b[0m\u001b[0;34m\u001b[0m\u001b[0m\n",
            "\u001b[0;31mTypeError\u001b[0m: expected str, bytes or os.PathLike object, not _io.BytesIO"
          ]
        }
      ]
    },
    {
      "cell_type": "markdown",
      "metadata": {
        "id": "KqbviLBayoR7"
      },
      "source": [
        "## Pre-process"
      ]
    },
    {
      "cell_type": "code",
      "metadata": {
        "id": "JPz8EcsLOwTi"
      },
      "source": [
        "w, h = img.size\n",
        "s = min(w, h)\n",
        "y = (h - s) // 2\n",
        "x = (w - s) // 2\n",
        "img = img.crop((x, y, s, s))\n",
        "target_size = max(x for x in model.layers[0].input_shape if x)\n",
        "img = img.resize((299, 299), Image.ANTIALIAS)\n",
        "imshow(np.asarray(img))"
      ],
      "execution_count": null,
      "outputs": []
    },
    {
      "cell_type": "code",
      "metadata": {
        "id": "zZGNs0U5jE3R"
      },
      "source": [
        "np_img = image.img_to_array(img)\n",
        "img_batch = np.expand_dims(np_img, axis=0)\n",
        "pre_processed = preprocess_input(img_batch)\n",
        "pre_processed.shape"
      ],
      "execution_count": null,
      "outputs": []
    },
    {
      "cell_type": "markdown",
      "metadata": {
        "id": "JSpBz6lxyruV"
      },
      "source": [
        "## Run inference and Decode Output"
      ]
    },
    {
      "cell_type": "code",
      "metadata": {
        "id": "vsqumKS2jF4_"
      },
      "source": [
        "features = model.predict(pre_processed)\n",
        "features.shape"
      ],
      "execution_count": null,
      "outputs": []
    },
    {
      "cell_type": "code",
      "metadata": {
        "id": "zVukCeWmjMX-"
      },
      "source": [
        "decode_predictions(features, top=5)"
      ],
      "execution_count": null,
      "outputs": []
    },
    {
      "cell_type": "markdown",
      "metadata": {
        "id": "DD0MSeyrtMvq"
      },
      "source": [
        "## Export Model in SavedModel format\n"
      ]
    },
    {
      "cell_type": "code",
      "metadata": {
        "id": "co-1_sgtxOpU"
      },
      "source": [
        "# Export Path\n",
        "export_path = '/content/saved_model/v1/'\n",
        "\n",
        "# Clean Up previous dir\n",
        "!rm -rf export_path\n",
        "\n",
        "# Save the entire model as a SavedModel.\n",
        "!mkdir -p export_path\n",
        "\n",
        "#save model\n",
        "tf.saved_model.save(model, os.path.join('/content/',export_path))\n",
        "\n",
        "# my_model directory\n",
        "!ls -l /content/saved_model/v1/"
      ],
      "execution_count": null,
      "outputs": []
    },
    {
      "cell_type": "code",
      "metadata": {
        "id": "nvFHuHpQoBeK"
      },
      "source": [
        "!ls -R '/content/saved_model/v1/'"
      ],
      "execution_count": null,
      "outputs": []
    },
    {
      "cell_type": "code",
      "metadata": {
        "id": "6IEQS0HDMOkc"
      },
      "source": [
        "!saved_model_cli show --dir saved_model/v1 --tag_set serve"
      ],
      "execution_count": null,
      "outputs": []
    },
    {
      "cell_type": "markdown",
      "metadata": {
        "id": "o7gCOd-ibjBP"
      },
      "source": [
        "## GCloud Auth"
      ]
    },
    {
      "cell_type": "code",
      "metadata": {
        "id": "AaW61cmHbkjG"
      },
      "source": [
        "!gcloud auth login"
      ],
      "execution_count": null,
      "outputs": []
    },
    {
      "cell_type": "code",
      "metadata": {
        "id": "65aIfwCfb34B"
      },
      "source": [
        "!gcloud config set project tf-blog"
      ],
      "execution_count": null,
      "outputs": []
    },
    {
      "cell_type": "markdown",
      "metadata": {
        "id": "rQypwSvEcjbc"
      },
      "source": [
        "## GCS Bucket"
      ]
    },
    {
      "cell_type": "code",
      "metadata": {
        "id": "9a1CQ_FTb8e5"
      },
      "source": [
        "!gsutil mb gs://tf-blog\n",
        "!gsutil list"
      ],
      "execution_count": null,
      "outputs": []
    },
    {
      "cell_type": "code",
      "metadata": {
        "id": "J7u0kOlWcEpo"
      },
      "source": [
        "!gsutil -m cp -r saved_model/v1/ gs://tf-blog"
      ],
      "execution_count": null,
      "outputs": []
    },
    {
      "cell_type": "code",
      "metadata": {
        "id": "goPkUsTgc1Mu"
      },
      "source": [
        "!gsutil ls gs://tf-blog/v1"
      ],
      "execution_count": null,
      "outputs": []
    },
    {
      "cell_type": "markdown",
      "metadata": {
        "id": "JCrDmNSGc4NZ"
      },
      "source": [
        "## Google AI Platform"
      ]
    },
    {
      "cell_type": "code",
      "metadata": {
        "id": "Q__Bev3Dc6yQ"
      },
      "source": [
        "!gcloud ai-platform models create tfblog --regions=us-central1"
      ],
      "execution_count": null,
      "outputs": []
    },
    {
      "cell_type": "code",
      "metadata": {
        "id": "sixN1E1fc-uw"
      },
      "source": [
        "!gcloud ai-platform versions create v1 --model=tfblog --framework=tensorflow --origin=gs://tf-blog/v1 --python-version=3.5 --runtime-version=1.14"
      ],
      "execution_count": null,
      "outputs": []
    },
    {
      "cell_type": "markdown",
      "metadata": {
        "id": "MROQPbuzdBk8"
      },
      "source": [
        "## Google App Engine"
      ]
    },
    {
      "cell_type": "code",
      "metadata": {
        "id": "QQmvbM5XdDV4"
      },
      "source": [
        "!git clone https://github.com/alyarctiq/tfblog-inceptionv3\n",
        "!cd  tfblog-inceptionv3/appengine/\n",
        "!ls -l tfblog-inceptionv3/appengine/"
      ],
      "execution_count": null,
      "outputs": []
    },
    {
      "cell_type": "code",
      "metadata": {
        "id": "or1ESoVkdI7K"
      },
      "source": [
        "!gcloud app deploy tfblog-inceptionv3/appengine/"
      ],
      "execution_count": null,
      "outputs": []
    },
    {
      "cell_type": "markdown",
      "metadata": {
        "id": "n5d4Y_amTy3o"
      },
      "source": [
        "## Zip Model"
      ]
    },
    {
      "cell_type": "code",
      "metadata": {
        "id": "ifyLDbyiTxue"
      },
      "source": [
        "#zip and download\n",
        "from google.colab import files\n",
        "download_path = 'saved_model/v1.zip'\n",
        "export_path='saved_model/v1'\n",
        "!zip -r {download_path} {export_path}"
      ],
      "execution_count": null,
      "outputs": []
    },
    {
      "cell_type": "markdown",
      "metadata": {
        "id": "BbtUZfS3tF84"
      },
      "source": [
        "## Save to Drive"
      ]
    },
    {
      "cell_type": "code",
      "metadata": {
        "id": "s2DquxnfrXXA"
      },
      "source": [
        "from google.colab import drive\n",
        "drive.mount('/content/gdrive')"
      ],
      "execution_count": null,
      "outputs": []
    },
    {
      "cell_type": "code",
      "metadata": {
        "id": "UiC5wWoHsZzj"
      },
      "source": [
        "!mkdir -p /content/gdrive/\"My Drive/colab-download/models\""
      ],
      "execution_count": null,
      "outputs": []
    },
    {
      "cell_type": "code",
      "metadata": {
        "id": "Oq4E5uifseYo"
      },
      "source": [
        "!cp -R /content/saved_model/v1.zip /content/gdrive/\"My Drive/colab-download/models/\""
      ],
      "execution_count": null,
      "outputs": []
    },
    {
      "cell_type": "code",
      "metadata": {
        "id": "c9-of3I5tR6c"
      },
      "source": [
        "## Clean Up CoLab\n",
        "!rm -rf '/content/saved_model/v1/'"
      ],
      "execution_count": null,
      "outputs": []
    }
  ]
}