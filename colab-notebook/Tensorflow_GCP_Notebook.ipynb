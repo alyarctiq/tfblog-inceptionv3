{
  "nbformat": 4,
  "nbformat_minor": 0,
  "metadata": {
    "colab": {
      "name": "Tensorflow-GCP-Notebook.ipynb",
      "provenance": [],
      "collapsed_sections": [],
      "authorship_tag": "ABX9TyOCGKwey1kBwrjJNc6q632y",
      "include_colab_link": true
    },
    "kernelspec": {
      "name": "python3",
      "display_name": "Python 3"
    },
    "accelerator": "GPU"
  },
  "cells": [
    {
      "cell_type": "markdown",
      "metadata": {
        "id": "view-in-github",
        "colab_type": "text"
      },
      "source": [
        "<a href=\"https://colab.research.google.com/github/alyarctiq/tfblog-inceptionv3/blob/master/colab-notebook/Tensorflow_GCP_Notebook.ipynb\" target=\"_parent\"><img src=\"https://colab.research.google.com/assets/colab-badge.svg\" alt=\"Open In Colab\"/></a>"
      ]
    },
    {
      "cell_type": "markdown",
      "metadata": {
        "id": "3gTFt94Vw6lP"
      },
      "source": [
        "## Prep "
      ]
    },
    {
      "cell_type": "code",
      "metadata": {
        "id": "EeWo9jqchFip"
      },
      "source": [
        "# Validate Notebook\n",
        "try:\n",
        "    %tensorflow_version 2.x\n",
        "    COLAB = True\n",
        "    print(\"Note: using Google CoLab\")\n",
        "    print(\"TF Version: \",  tf.__version__)\n",
        "except:\n",
        "    print(\"Note: not using Google CoLab\")\n",
        "    COLAB = False\n",
        "\n",
        "# Tensorflow and Keras\n",
        "import tensorflow as tf\n",
        "from tensorflow.keras.applications.inception_v3 import InceptionV3\n",
        "from tensorflow.keras import applications\n",
        "from tensorflow.keras.preprocessing import image\n",
        "from tensorflow.keras.applications.inception_v3 import preprocess_input\n",
        "from tensorflow.keras.applications.inception_v3 import decode_predictions\n",
        "from tensorflow.keras.preprocessing.image import load_img\n",
        "\n",
        "# Helper libraries\n",
        "import os\n",
        "import requests\n",
        "import numpy as np\n",
        "from PIL import Image\n",
        "from io import BytesIO\n",
        "from io import BytesIO\n",
        "import urllib\n",
        "from matplotlib.pyplot import imshow\n",
        "\n",
        "tf.keras.backend.clear_session()  # For easy reset of notebook state.\n",
        "\n",
        "device_name = tf.test.gpu_device_name()\n",
        "if device_name != '/device:GPU:0':\n",
        "  raise SystemError('GPU device not found')\n",
        "print('Found GPU at: {}'.format(device_name))"
      ],
      "execution_count": null,
      "outputs": []
    },
    {
      "cell_type": "markdown",
      "metadata": {
        "id": "S_4nAWxqyXMy"
      },
      "source": [
        "## Load Inceptionv3 Model"
      ]
    },
    {
      "cell_type": "code",
      "metadata": {
        "id": "3rDyRS6whJ5d"
      },
      "source": [
        "# Load Model\n",
        "model = InceptionV3(include_top=True, weights='imagenet')"
      ],
      "execution_count": null,
      "outputs": []
    },
    {
      "cell_type": "markdown",
      "metadata": {
        "id": "r2y4f-ztyb_R"
      },
      "source": [
        "## Load Test Image"
      ]
    },
    {
      "cell_type": "code",
      "metadata": {
        "id": "WfzhCNWjmuTx"
      },
      "source": [
        "def loadImage(URL):\n",
        "    res = request.urlopen(URL).read()\n",
        "    img = Image.open(BytesIO(res)).resize((150,150))\n",
        "    return img"
      ],
      "execution_count": null,
      "outputs": []
    },
    {
      "cell_type": "code",
      "metadata": {
        "id": "R9eHysWHhTjl"
      },
      "source": [
        "img = loadImage(\"https://news.harvard.edu/wp-content/uploads/2019/04/iStock-515813368.jpg\")"
      ],
      "execution_count": null,
      "outputs": []
    },
    {
      "cell_type": "markdown",
      "metadata": {
        "id": "KqbviLBayoR7"
      },
      "source": [
        "## Pre-process"
      ]
    },
    {
      "cell_type": "code",
      "metadata": {
        "id": "JPz8EcsLOwTi"
      },
      "source": [
        "w, h = img.size\n",
        "s = min(w, h)\n",
        "y = (h - s) // 2\n",
        "x = (w - s) // 2\n",
        "img = img.crop((x, y, s, s))\n",
        "target_size = max(x for x in model.layers[0].input_shape if x)\n",
        "img = img.resize((299, 299), Image.ANTIALIAS)\n",
        "imshow(np.asarray(img))"
      ],
      "execution_count": null,
      "outputs": []
    },
    {
      "cell_type": "code",
      "metadata": {
        "id": "zZGNs0U5jE3R"
      },
      "source": [
        "np_img = image.img_to_array(img)\n",
        "img_batch = np.expand_dims(np_img, axis=0)\n",
        "pre_processed = preprocess_input(img_batch)\n",
        "pre_processed.shape"
      ],
      "execution_count": null,
      "outputs": []
    },
    {
      "cell_type": "markdown",
      "metadata": {
        "id": "JSpBz6lxyruV"
      },
      "source": [
        "## Run inference and Decode Output"
      ]
    },
    {
      "cell_type": "code",
      "metadata": {
        "id": "vsqumKS2jF4_"
      },
      "source": [
        "features = model.predict(pre_processed)\n",
        "features.shape"
      ],
      "execution_count": null,
      "outputs": []
    },
    {
      "cell_type": "code",
      "metadata": {
        "id": "zVukCeWmjMX-"
      },
      "source": [
        "decode_predictions(features, top=5)"
      ],
      "execution_count": null,
      "outputs": []
    },
    {
      "cell_type": "markdown",
      "metadata": {
        "id": "DD0MSeyrtMvq"
      },
      "source": [
        "## Export Model in SavedModel format\n"
      ]
    },
    {
      "cell_type": "code",
      "metadata": {
        "id": "co-1_sgtxOpU"
      },
      "source": [
        "# Export Path\n",
        "export_path = '/content/saved_model/v1/'\n",
        "\n",
        "# Clean Up previous dir\n",
        "!rm -rf export_path\n",
        "\n",
        "# Save the entire model as a SavedModel.\n",
        "!mkdir -p export_path\n",
        "\n",
        "#save model\n",
        "tf.saved_model.save(model, os.path.join('/content/',export_path))\n",
        "\n",
        "# my_model directory\n",
        "!ls -l /content/saved_model/v1/"
      ],
      "execution_count": null,
      "outputs": []
    },
    {
      "cell_type": "code",
      "metadata": {
        "id": "nvFHuHpQoBeK"
      },
      "source": [
        "!ls -R '/content/saved_model/v1/'"
      ],
      "execution_count": null,
      "outputs": []
    },
    {
      "cell_type": "code",
      "metadata": {
        "id": "6IEQS0HDMOkc"
      },
      "source": [
        "!saved_model_cli show --dir saved_model/v1 --tag_set serve"
      ],
      "execution_count": null,
      "outputs": []
    },
    {
      "cell_type": "markdown",
      "metadata": {
        "id": "o7gCOd-ibjBP"
      },
      "source": [
        "## GCloud Auth"
      ]
    },
    {
      "cell_type": "code",
      "metadata": {
        "id": "AaW61cmHbkjG"
      },
      "source": [
        "!gcloud auth login"
      ],
      "execution_count": null,
      "outputs": []
    },
    {
      "cell_type": "code",
      "metadata": {
        "id": "65aIfwCfb34B"
      },
      "source": [
        "!gcloud config set project tf-blog"
      ],
      "execution_count": null,
      "outputs": []
    },
    {
      "cell_type": "markdown",
      "metadata": {
        "id": "rQypwSvEcjbc"
      },
      "source": [
        "## GCS Bucket"
      ]
    },
    {
      "cell_type": "code",
      "metadata": {
        "id": "9a1CQ_FTb8e5"
      },
      "source": [
        "!gsutil mb gs://tf-blog\n",
        "!gsutil list"
      ],
      "execution_count": null,
      "outputs": []
    },
    {
      "cell_type": "code",
      "metadata": {
        "id": "J7u0kOlWcEpo"
      },
      "source": [
        "!gsutil -m cp -r saved_model/v1/ gs://tf-blog"
      ],
      "execution_count": null,
      "outputs": []
    },
    {
      "cell_type": "code",
      "metadata": {
        "id": "goPkUsTgc1Mu"
      },
      "source": [
        "!gsutil ls gs://tf-blog/v1"
      ],
      "execution_count": null,
      "outputs": []
    },
    {
      "cell_type": "markdown",
      "metadata": {
        "id": "JCrDmNSGc4NZ"
      },
      "source": [
        "## Google AI Platform"
      ]
    },
    {
      "cell_type": "code",
      "metadata": {
        "id": "Q__Bev3Dc6yQ"
      },
      "source": [
        "!gcloud ai-platform models create tfblog --regions=us-central1"
      ],
      "execution_count": null,
      "outputs": []
    },
    {
      "cell_type": "code",
      "metadata": {
        "id": "sixN1E1fc-uw"
      },
      "source": [
        "!gcloud ai-platform versions create v1 --model=tfblog --framework=tensorflow --origin=gs://tf-blog/v1 --python-version=3.5 --runtime-version=1.14"
      ],
      "execution_count": null,
      "outputs": []
    },
    {
      "cell_type": "markdown",
      "metadata": {
        "id": "MROQPbuzdBk8"
      },
      "source": [
        "## Google App Engine"
      ]
    },
    {
      "cell_type": "code",
      "metadata": {
        "id": "QQmvbM5XdDV4"
      },
      "source": [
        "!git clone https://github.com/alyarctiq/tfblog-inceptionv3\n",
        "!cd  tfblog-inceptionv3/appengine/\n",
        "!ls -l tfblog-inceptionv3/appengine/"
      ],
      "execution_count": null,
      "outputs": []
    },
    {
      "cell_type": "code",
      "metadata": {
        "id": "or1ESoVkdI7K"
      },
      "source": [
        "!gcloud app deploy tfblog-inceptionv3/appengine/"
      ],
      "execution_count": null,
      "outputs": []
    },
    {
      "cell_type": "markdown",
      "metadata": {
        "id": "n5d4Y_amTy3o"
      },
      "source": [
        "## Zip Model"
      ]
    },
    {
      "cell_type": "code",
      "metadata": {
        "id": "ifyLDbyiTxue"
      },
      "source": [
        "#zip and download\n",
        "from google.colab import files\n",
        "download_path = 'saved_model/v1.zip'\n",
        "export_path='saved_model/v1'\n",
        "!zip -r {download_path} {export_path}"
      ],
      "execution_count": null,
      "outputs": []
    },
    {
      "cell_type": "markdown",
      "metadata": {
        "id": "BbtUZfS3tF84"
      },
      "source": [
        "## Save to Drive"
      ]
    },
    {
      "cell_type": "code",
      "metadata": {
        "id": "s2DquxnfrXXA"
      },
      "source": [
        "from google.colab import drive\n",
        "drive.mount('/content/gdrive')"
      ],
      "execution_count": null,
      "outputs": []
    },
    {
      "cell_type": "code",
      "metadata": {
        "id": "UiC5wWoHsZzj"
      },
      "source": [
        "!mkdir -p /content/gdrive/\"My Drive/colab-download/models\""
      ],
      "execution_count": null,
      "outputs": []
    },
    {
      "cell_type": "code",
      "metadata": {
        "id": "Oq4E5uifseYo"
      },
      "source": [
        "!cp -R /content/saved_model/v1.zip /content/gdrive/\"My Drive/colab-download/models/\""
      ],
      "execution_count": null,
      "outputs": []
    },
    {
      "cell_type": "code",
      "metadata": {
        "id": "c9-of3I5tR6c"
      },
      "source": [
        "## Clean Up CoLab\n",
        "!rm -rf '/content/saved_model/v1/'"
      ],
      "execution_count": null,
      "outputs": []
    }
  ]
}